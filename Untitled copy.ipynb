{
 "cells": [
  {
   "cell_type": "markdown",
   "id": "0b74dd33-f2b9-4ed7-929d-4ff363232d08",
   "metadata": {},
   "source": [
    "# Testing Databricks class functions"
   ]
  },
  {
   "cell_type": "code",
   "execution_count": 1,
   "id": "89a164cc-5c9b-4cc5-8db0-775b1e6d4fff",
   "metadata": {},
   "outputs": [
    {
     "name": "stderr",
     "output_type": "stream",
     "text": [
      "22/07/04 13:49:50 WARN NativeCodeLoader: Unable to load native-hadoop library for your platform... using builtin-java classes where applicable\n",
      "Using Spark's default log4j profile: org/apache/spark/log4j-defaults.properties\n",
      "Setting default log level to \"WARN\".\n",
      "To adjust logging level use sc.setLogLevel(newLevel). For SparkR, use setLogLevel(newLevel).\n",
      "22/07/04 13:49:51 WARN MetricsSystem: Using default name SparkStatusTracker for source because neither spark.metrics.namespace nor spark.app.id is set.\n"
     ]
    }
   ],
   "source": [
    "from viadot.sources import Databricks\n",
    "import pandas as pd\n",
    "\n",
    "databricks = Databricks(env = \"QA\")"
   ]
  },
  {
   "cell_type": "markdown",
   "id": "9a5f3c7b-d373-4bf6-9653-1f567a1e50e9",
   "metadata": {},
   "source": [
    "# Convert to Spark DF and back"
   ]
  },
  {
   "cell_type": "code",
   "execution_count": null,
   "id": "8cf6369f-e2bf-4bb6-bbd8-bef20875911f",
   "metadata": {},
   "outputs": [],
   "source": [
    "list = [{\"some\":\"data\"}]\n",
    "sparkDf = databricks.toSparkDF(list)\n",
    "pandasDf = databricks.fromSparkToPandas(sparkDf)\n",
    "display(pandasDf)"
   ]
  },
  {
   "cell_type": "markdown",
   "id": "6b9925ed-3dc3-4cdf-9756-dd5d71e8339c",
   "metadata": {
    "tags": []
   },
   "source": [
    "# Run any queries"
   ]
  },
  {
   "cell_type": "code",
   "execution_count": null,
   "id": "a1c9d762-13d3-4a6c-bc9b-5262612b0df7",
   "metadata": {},
   "outputs": [],
   "source": [
    "result = databricks.query(\"select * from raw.c4c_test4\")\n",
    "display(result)"
   ]
  },
  {
   "cell_type": "markdown",
   "id": "a103deb3-0854-4e99-95c6-0a85f91fbe74",
   "metadata": {},
   "source": [
    "# Read table"
   ]
  },
  {
   "cell_type": "code",
   "execution_count": 2,
   "id": "812157cf-4322-49c0-a726-1ca2afa1f53e",
   "metadata": {},
   "outputs": [
    {
     "name": "stderr",
     "output_type": "stream",
     "text": [
      "[Stage 122:>                                                        (0 + 1) / 1]\r"
     ]
    },
    {
     "name": "stdout",
     "output_type": "stream",
     "text": [
      "View job details at https://adb-1930462786844525.5.azuredatabricks.net/?o=1930462786844525#/setting/clusters/0427-122644-45iadnd/sparkUi\n"
     ]
    },
    {
     "name": "stderr",
     "output_type": "stream",
     "text": [
      "                                                                                \r"
     ]
    },
    {
     "name": "stdout",
     "output_type": "stream",
     "text": [
      "View job details at https://adb-1930462786844525.5.azuredatabricks.net/?o=1930462786844525#/setting/clusters/0427-122644-45iadnd/sparkUi\n"
     ]
    },
    {
     "data": {
      "text/html": [
       "<div>\n",
       "<style scoped>\n",
       "    .dataframe tbody tr th:only-of-type {\n",
       "        vertical-align: middle;\n",
       "    }\n",
       "\n",
       "    .dataframe tbody tr th {\n",
       "        vertical-align: top;\n",
       "    }\n",
       "\n",
       "    .dataframe thead th {\n",
       "        text-align: right;\n",
       "    }\n",
       "</style>\n",
       "<table border=\"1\" class=\"dataframe\">\n",
       "  <thead>\n",
       "    <tr style=\"text-align: right;\">\n",
       "      <th></th>\n",
       "      <th>Id</th>\n",
       "      <th>AccountId</th>\n",
       "      <th>Name</th>\n",
       "      <th>FirstName</th>\n",
       "      <th>LastName</th>\n",
       "      <th>ContactEMail</th>\n",
       "      <th>MailingCity</th>\n",
       "    </tr>\n",
       "  </thead>\n",
       "  <tbody>\n",
       "    <tr>\n",
       "      <th>0</th>\n",
       "      <td>SNaTEOiGfPJ</td>\n",
       "      <td>KxPqtfmCHA</td>\n",
       "      <td>Refresh test, Perez and Bowman</td>\n",
       "      <td>James</td>\n",
       "      <td>Ortiz</td>\n",
       "      <td>James.Ortiz@PetersPerezandBowman.com</td>\n",
       "      <td>Michaelland</td>\n",
       "    </tr>\n",
       "    <tr>\n",
       "      <th>1</th>\n",
       "      <td>UpsertTest2</td>\n",
       "      <td>Updated3!EHNYKjSZsiy2</td>\n",
       "      <td>new upsert-4</td>\n",
       "      <td>Updated</td>\n",
       "      <td>Carter2</td>\n",
       "      <td>Adam.Carter@TurnerBlack.com</td>\n",
       "      <td>Updated!Jamesport</td>\n",
       "    </tr>\n",
       "    <tr>\n",
       "      <th>2</th>\n",
       "      <td>yzdeNFYNPJWF</td>\n",
       "      <td>wsmjsVQpKWUbA</td>\n",
       "      <td>Estrada-Hayes</td>\n",
       "      <td>Vanessa</td>\n",
       "      <td>Guzman</td>\n",
       "      <td>Vanessa.Guzman@EstradaHayes.com</td>\n",
       "      <td>Barnesport</td>\n",
       "    </tr>\n",
       "    <tr>\n",
       "      <th>3</th>\n",
       "      <td>CFfTlqagNlpDu</td>\n",
       "      <td>TtGjFbCTWJgdPT</td>\n",
       "      <td>Mann-Warren</td>\n",
       "      <td>Wayne</td>\n",
       "      <td>Morrison</td>\n",
       "      <td>Wayne.Morrison@MannWarren.com</td>\n",
       "      <td>Kathrynmouth</td>\n",
       "    </tr>\n",
       "    <tr>\n",
       "      <th>4</th>\n",
       "      <td>refresh test</td>\n",
       "      <td>Test</td>\n",
       "      <td>Scott-Merritt</td>\n",
       "      <td>Melody</td>\n",
       "      <td>Cook</td>\n",
       "      <td>Melody.Cook@ScottMerritt.com</td>\n",
       "      <td>Elizabethfurt</td>\n",
       "    </tr>\n",
       "  </tbody>\n",
       "</table>\n",
       "</div>"
      ],
      "text/plain": [
       "              Id              AccountId                            Name  \\\n",
       "0    SNaTEOiGfPJ             KxPqtfmCHA  Refresh test, Perez and Bowman   \n",
       "1    UpsertTest2  Updated3!EHNYKjSZsiy2                    new upsert-4   \n",
       "2   yzdeNFYNPJWF          wsmjsVQpKWUbA                   Estrada-Hayes   \n",
       "3  CFfTlqagNlpDu         TtGjFbCTWJgdPT                     Mann-Warren   \n",
       "4   refresh test                   Test                   Scott-Merritt   \n",
       "\n",
       "  FirstName  LastName                          ContactEMail        MailingCity  \n",
       "0     James     Ortiz  James.Ortiz@PetersPerezandBowman.com        Michaelland  \n",
       "1   Updated   Carter2           Adam.Carter@TurnerBlack.com  Updated!Jamesport  \n",
       "2   Vanessa    Guzman       Vanessa.Guzman@EstradaHayes.com         Barnesport  \n",
       "3     Wayne  Morrison         Wayne.Morrison@MannWarren.com       Kathrynmouth  \n",
       "4    Melody      Cook          Melody.Cook@ScottMerritt.com      Elizabethfurt  "
      ]
     },
     "metadata": {},
     "output_type": "display_data"
    }
   ],
   "source": [
    "result = databricks.to_df(\"SELECT * FROM raw.c4c_test4\", \"dataframe\")\n",
    "display(result)"
   ]
  },
  {
   "cell_type": "markdown",
   "id": "e6a3a415-9399-4ba9-8322-19df5c25e0ec",
   "metadata": {},
   "source": [
    "# Create new table"
   ]
  },
  {
   "cell_type": "code",
   "execution_count": null,
   "id": "c7904d3f-0a7f-4bbc-8a53-97ed8e505dfa",
   "metadata": {},
   "outputs": [],
   "source": [
    "data_raw =[{\"Id\": \"wRACnHTeuw\", \"AccountId\": \"rWFuwDHxfGh\", \"Name\": \"Scott-Merritt\", \"FirstName\": \"Melody\", \"LastName\": \"Cook\", \"ContactEMail\": \"Melody.Cook@ScottMerritt.com\", \"MailingCity\": \"Elizabethfurt\"}, {\"Id\": \"CFfTlqagNlpDu\", \"AccountId\": \"TtGjFbCTWJgdPT\", \"Name\": \"Mann-Warren\", \"FirstName\": \"Wayne\", \"LastName\": \"Morrison\", \"ContactEMail\": \"Wayne.Morrison@MannWarren.com\", \"MailingCity\": \"Kathrynmouth\"}, {\"Id\": \"SNaTEOiGfPJ\", \"AccountId\": \"KxPqtfmCHA\", \"Name\": \"Peters, Perez and Bowman\", \"FirstName\": \"James\", \"LastName\": \"Ortiz\", \"ContactEMail\": \"James.Ortiz@PetersPerezandBowman.com\", \"MailingCity\": \"Michaelland\"}, {\"Id\": \"yzdeNFYNPJWF\", \"AccountId\": \"wsmjsVQpKWUbA\", \"Name\": \"Estrada-Hayes\", \"FirstName\": \"Vanessa\", \"LastName\": \"Guzman\", \"ContactEMail\": \"Vanessa.Guzman@EstradaHayes.com\", \"MailingCity\": \"Barnesport\"}, {\"Id\": \"kRjBQOQQPw\", \"AccountId\": \"BYsCoPKAWIEpRN\", \"Name\": \"Kent-Lyons\", \"FirstName\": \"Alexander\", \"LastName\": \"Chambers\", \"ContactEMail\": \"Alexander.Chambers@KentLyons.com\", \"MailingCity\": \"New Nicholaschester\"}]\n",
    "\n",
    "df = pd.DataFrame(data_raw)\n",
    "\n",
    "databricks.create_table_from_pandas(\"raw.test_table\", df)"
   ]
  },
  {
   "cell_type": "markdown",
   "id": "e3bea747-48cc-4590-bdf1-4dcd3d5f877f",
   "metadata": {},
   "source": [
    "# Delete table"
   ]
  },
  {
   "cell_type": "code",
   "execution_count": null,
   "id": "bc63aecb-5244-494d-b22f-adb6d98084b5",
   "metadata": {},
   "outputs": [],
   "source": [
    "databricks.deleteTable(\"raw.c4c_test4\")"
   ]
  },
  {
   "cell_type": "markdown",
   "id": "449dd797-ae63-4c41-b788-d7edf33b39d2",
   "metadata": {},
   "source": [
    "# Appending table"
   ]
  },
  {
   "cell_type": "code",
   "execution_count": null,
   "id": "c0f014de-861b-4b8e-aae7-1bf3a2a51039",
   "metadata": {},
   "outputs": [],
   "source": [
    "data_raw =[{\"Id\": \"refresh test\", \"AccountId\": \"Test\", \"Name\": \"Scott-Merritt\", \"FirstName\": \"Melody\", \"LastName\": \"Cook\", \"ContactEMail\": \"Melody.Cook@ScottMerritt.com\", \"MailingCity\": \"Elizabethfurt\"}, {\"Id\": \"CFfTlqagNlpDu\", \"AccountId\": \"TtGjFbCTWJgdPT\", \"Name\": \"Mann-Warren\", \"FirstName\": \"Wayne\", \"LastName\": \"Morrison\", \"ContactEMail\": \"Wayne.Morrison@MannWarren.com\", \"MailingCity\": \"Kathrynmouth\"}, {\"Id\": \"SNaTEOiGfPJ\", \"AccountId\": \"KxPqtfmCHA\", \"Name\": \"Refresh test, Perez and Bowman\", \"FirstName\": \"James\", \"LastName\": \"Ortiz\", \"ContactEMail\": \"James.Ortiz@PetersPerezandBowman.com\", \"MailingCity\": \"Michaelland\"}, {\"Id\": \"yzdeNFYNPJWF\", \"AccountId\": \"wsmjsVQpKWUbA\", \"Name\": \"Estrada-Hayes\", \"FirstName\": \"Vanessa\", \"LastName\": \"Guzman\", \"ContactEMail\": \"Vanessa.Guzman@EstradaHayes.com\", \"MailingCity\": \"Barnesport\"}]\n",
    "\n",
    "df = pd.DataFrame(data_raw)\n",
    "\n",
    "databricks.insert_into(table_name = \"raw.c4c_test4\", df = df, if_exists = \"append\")"
   ]
  },
  {
   "cell_type": "markdown",
   "id": "b1f58509-3620-48f1-95d4-128f00f40d0e",
   "metadata": {},
   "source": [
    "# Full refresh"
   ]
  },
  {
   "cell_type": "code",
   "execution_count": 4,
   "id": "8f7c6a97-475f-4441-a161-df339e4857d2",
   "metadata": {},
   "outputs": [
    {
     "name": "stdout",
     "output_type": "stream",
     "text": [
      "View job details at https://adb-1930462786844525.5.azuredatabricks.net/?o=1930462786844525#/setting/clusters/0427-122644-45iadnd/sparkUi\n"
     ]
    },
    {
     "name": "stderr",
     "output_type": "stream",
     "text": [
      "[Stage 153:=============================================>           (4 + 1) / 5]\r"
     ]
    },
    {
     "name": "stdout",
     "output_type": "stream",
     "text": [
      "[2022-07-04 13:52:25+0000] INFO - prefect.viadot.sources.databricks | Table raw.c4c_test4 has been full-refreshed successfully\n"
     ]
    }
   ],
   "source": [
    "data_raw =[{\"Id\": \"refresh test\", \"AccountId\": \"Test\", \"Name\": \"Scott-Merritt\", \"FirstName\": \"Melody\", \"LastName\": \"Cook\", \"ContactEMail\": \"Melody.Cook@ScottMerritt.com\", \"MailingCity\": \"Elizabethfurt\"}, {\"Id\": \"CFfTlqagNlpDu\", \"AccountId\": \"TtGjFbCTWJgdPT\", \"Name\": \"Mann-Warren\", \"FirstName\": \"Wayne\", \"LastName\": \"Morrison\", \"ContactEMail\": \"Wayne.Morrison@MannWarren.com\", \"MailingCity\": \"Kathrynmouth\"}, {\"Id\": \"SNaTEOiGfPJ\", \"AccountId\": \"KxPqtfmCHA\", \"Name\": \"Refresh test, Perez and Bowman\", \"FirstName\": \"James\", \"LastName\": \"Ortiz\", \"ContactEMail\": \"James.Ortiz@PetersPerezandBowman.com\", \"MailingCity\": \"Michaelland\"}, {\"Id\": \"yzdeNFYNPJWF\", \"AccountId\": \"wsmjsVQpKWUbA\", \"Name\": \"Estrada-Hayes\", \"FirstName\": \"Vanessa\", \"LastName\": \"Guzman\", \"ContactEMail\": \"Vanessa.Guzman@EstradaHayes.com\", \"MailingCity\": \"Barnesport\"}]\n",
    "\n",
    "df = pd.DataFrame(data_raw)\n",
    "\n",
    "databricks.insert_into(table_name = \"raw.c4c_test4\", df = df, if_exists = \"replace\")"
   ]
  },
  {
   "cell_type": "markdown",
   "id": "06f804c0-20cc-434b-894c-2ca09aab0bf8",
   "metadata": {},
   "source": [
    "# Upsert"
   ]
  },
  {
   "cell_type": "code",
   "execution_count": 3,
   "id": "18bf9911-77a4-4f9f-a575-09aaea8c3b39",
   "metadata": {},
   "outputs": [
    {
     "name": "stdout",
     "output_type": "stream",
     "text": [
      "View job details at https://adb-1930462786844525.5.azuredatabricks.net/?o=1930462786844525#/setting/clusters/0427-122644-45iadnd/sparkUi\n",
      "View job details at https://adb-1930462786844525.5.azuredatabricks.net/?o=1930462786844525#/setting/clusters/0427-122644-45iadnd/sparkUi\n"
     ]
    },
    {
     "name": "stderr",
     "output_type": "stream",
     "text": [
      "[Stage 149:>                                                        (0 + 1) / 1]\r"
     ]
    },
    {
     "name": "stdout",
     "output_type": "stream",
     "text": [
      "[2022-07-04 13:50:21+0000] INFO - prefect.viadot.sources.databricks | Data upserted successfully.\n"
     ]
    }
   ],
   "source": [
    "data = [{\"Id\": \"UpsertTest2\", \"AccountId\": \"Updated3!EHNYKjSZsiy2\", \"Name\": \"new upsert-4\", \"FirstName\": \"Updated\", \"LastName\": \"Carter2\", \"ContactEMail\": \"Adam.Carter@TurnerBlack.com\", \"MailingCity\": \"Updated!Jamesport\"}]\n",
    "\n",
    "df = pd.DataFrame(data)\n",
    "table_name = \"raw.c4c_test4\"\n",
    "pk = \"Id\"\n",
    "\n",
    "databricks.insert_into(table_name=table_name, df=data, primary_key=pk, if_exists=\"update\")"
   ]
  },
  {
   "cell_type": "markdown",
   "id": "e97f4d76-bc3c-429c-9dfd-559d5b49aa4a",
   "metadata": {},
   "source": [
    "# Create schema"
   ]
  },
  {
   "cell_type": "code",
   "execution_count": null,
   "id": "967a525a-a8ee-4c76-b456-4302548bbddf",
   "metadata": {},
   "outputs": [],
   "source": [
    "databricks.createSchema(\"testSchema\")"
   ]
  },
  {
   "cell_type": "markdown",
   "id": "8653b02c-0634-4935-8e32-0f916376fe89",
   "metadata": {},
   "source": [
    "# Delete schema"
   ]
  },
  {
   "cell_type": "code",
   "execution_count": null,
   "id": "8310e2e9-f14c-4617-ad11-04dd0fdb48cb",
   "metadata": {},
   "outputs": [],
   "source": [
    "databricks.deleteSchema(\"testSchema\")"
   ]
  },
  {
   "cell_type": "markdown",
   "id": "67fe14d8-ac1c-40fe-a50e-77f64bc42a50",
   "metadata": {},
   "source": [
    "# Print schema"
   ]
  },
  {
   "cell_type": "code",
   "execution_count": 7,
   "id": "d98cf671-661d-4794-9eeb-25aa287005f3",
   "metadata": {},
   "outputs": [
    {
     "name": "stdout",
     "output_type": "stream",
     "text": [
      "View job details at https://adb-1930462786844525.5.azuredatabricks.net/?o=1930462786844525#/setting/clusters/0427-122644-45iadnd/sparkUi\n",
      "View job details at https://adb-1930462786844525.5.azuredatabricks.net/?o=1930462786844525#/setting/clusters/0427-122644-45iadnd/sparkUi\n"
     ]
    },
    {
     "data": {
      "text/plain": [
       "{'Id': 'string',\n",
       " 'AccountId': 'string',\n",
       " 'Name': 'string',\n",
       " 'FirstName': 'string',\n",
       " 'LastName': 'string',\n",
       " 'ContactEMail': 'string',\n",
       " 'MailingCity': 'string'}"
      ]
     },
     "metadata": {},
     "output_type": "display_data"
    },
    {
     "name": "stdout",
     "output_type": "stream",
     "text": [
      "True\n"
     ]
    }
   ],
   "source": [
    "result = databricks.discover_schema(\"raw.c4c_test4\")\n",
    "display(result)\n",
    "result2 = {'Id': 'string',\n",
    " 'AccountId': 'string',\n",
    " 'Name': 'string',\n",
    " 'FirstName': 'string',\n",
    " 'LastName': 'string',\n",
    " 'ContactEMail': 'string',\n",
    " 'MailingCity': 'string'}\n",
    "\n",
    "print(result == result2)\n"
   ]
  },
  {
   "cell_type": "code",
   "execution_count": 18,
   "id": "2960968f-5a7b-4237-9bed-1c87d74faa5e",
   "metadata": {},
   "outputs": [
    {
     "name": "stdout",
     "output_type": "stream",
     "text": [
      "['Id', 'AccountId', 'Name', 'FirstName', 'LastName', 'ContactEMail', 'MailingCity']\n",
      "['string', 'string', 'string', 'string', 'string', 'string', 'string']\n",
      "{'Id': 'string', 'AccountId': 'string', 'Name': 'string', 'FirstName': 'string', 'LastName': 'string', 'ContactEMail': 'string', 'MailingCity': 'string'}\n"
     ]
    }
   ],
   "source": [
    "names = result[\"col_name\"].values.tolist()\n",
    "del names[-3:]\n",
    "data_types = result[\"data_type\"].values.tolist()\n",
    "del data_types[-3:]\n",
    "print(names)\n",
    "print(data_types)\n",
    "schema = {names[i]: data_types[i] for i in range(len(names))}\n",
    "print(schema)"
   ]
  },
  {
   "cell_type": "code",
   "execution_count": null,
   "id": "53ffa69f-b9e5-467b-ac3d-eaf54089785e",
   "metadata": {},
   "outputs": [],
   "source": [
    "matched_set = {\"Id\": \"existing.Id\",\n",
    "        \"AccountId\": \"stg.AccountId\",\n",
    "        \"Name\": \"stg.Name\",\n",
    "        \"FirstName\": \"stg.FirstName\",\n",
    "        \"LastName\": \"stg.LastName\",\n",
    "        \"ContactEMail\": \"stg.ContactEMail\",\n",
    "        \"MailingCity\": \"existing.MailingCity\"}\n",
    "\n",
    "matchedString = \"\"\n",
    "columns = \"(\"\n",
    "keys_list = list(matched_set.keys())\n",
    "for k, v in matched_set.items():\n",
    "    if k == keys_list[-1]:\n",
    "        matchedString = matchedString + str(k) + \"=\" + str(v)\n",
    "        columns = columns + str(k) + \")\"\n",
    "    else:\n",
    "        matchedString = matchedString + str(k) + \"=\" + str(v) + \", \"\n",
    "        columns = columns + str(k) + \",\"\n",
    "\n",
    "print(matchedString)\n",
    "print(columns)"
   ]
  },
  {
   "cell_type": "code",
   "execution_count": null,
   "id": "22328651-0301-4791-821a-7a917ef18812",
   "metadata": {},
   "outputs": [],
   "source": [
    "databricks.spark._jsparkSession.catalog().tableExists('raw', 'test_table')"
   ]
  },
  {
   "cell_type": "code",
   "execution_count": null,
   "id": "009b456c-c513-4b54-8246-c3a523ad0627",
   "metadata": {},
   "outputs": [],
   "source": [
    "databricks.delete_schema(\"test_schema\")"
   ]
  },
  {
   "cell_type": "code",
   "execution_count": null,
   "id": "1f21226b-37c0-4ff1-b45c-7464bcb4df36",
   "metadata": {},
   "outputs": [],
   "source": [
    "result = databricks.to_json(\"raw.test_table\")\n",
    "print(type(result))\n",
    "print(result)"
   ]
  },
  {
   "cell_type": "code",
   "execution_count": null,
   "id": "c7b366af-b763-4885-a19d-0ef8999c37e7",
   "metadata": {},
   "outputs": [],
   "source": [
    "result = databricks.query(\"DESCRIBE HISTORY raw.c4c_test4\")"
   ]
  },
  {
   "cell_type": "code",
   "execution_count": null,
   "id": "8e548271-dbd3-4cde-b828-b61a50529661",
   "metadata": {},
   "outputs": [],
   "source": [
    "print(len(result.index))\n",
    "print(result)"
   ]
  },
  {
   "cell_type": "code",
   "execution_count": null,
   "id": "96399123-aab7-4686-a3b2-8557be17fefe",
   "metadata": {},
   "outputs": [],
   "source": [
    "result = databricks.query(\"SHOW COLUMNS IN raw.c4c_test4\")\n",
    "print(result['col_name'].values[0])"
   ]
  },
  {
   "cell_type": "markdown",
   "id": "e1ef81ad-94f5-4f9d-b765-e6f4071bfc1c",
   "metadata": {},
   "source": [
    "# Time travel with Delta tables"
   ]
  },
  {
   "cell_type": "code",
   "execution_count": null,
   "id": "279b7488-f41d-448a-adcd-b3aa03911131",
   "metadata": {},
   "outputs": [],
   "source": [
    "# Get the info regarding the current version of the delta table\n",
    "result = databricks.query(\"DESCRIBE HISTORY raw.c4c_test4\")\n",
    "# Extract the current version number\n",
    "ver_num = str(result['version'].iat[0])\n",
    "# Retrieve the data from the previous table\n",
    "prev_table = databricks.to_df(\"raw.c4c_test4@v\" + ver_num)\n",
    "# Perform full-refresh and overwrite the table with the new data\n",
    "rollback_table = databricks.full_refresh(\"raw.c4c_test4\", prev_table)\n",
    "display(rollback_table)"
   ]
  },
  {
   "cell_type": "code",
   "execution_count": null,
   "id": "47d73c41-8b6b-4b30-a31b-8c235f9140c1",
   "metadata": {},
   "outputs": [],
   "source": [
    "ver_num = databricks.get_table_ver(\"raw.c4c_test4\")\n",
    "print(ver_num)\n",
    "databricks.rollback(\"raw.c4c_test4\", str(int(ver_num) - 1))\n",
    "result = databricks.to_df(\"raw.c4c_test4\")"
   ]
  },
  {
   "cell_type": "code",
   "execution_count": null,
   "id": "8e21392f-68d9-4b66-8dbe-b11a943ca390",
   "metadata": {},
   "outputs": [],
   "source": [
    "display(result)"
   ]
  },
  {
   "cell_type": "code",
   "execution_count": null,
   "id": "6ee6b5d0-4f2a-418a-9e66-81891ba5343c",
   "metadata": {},
   "outputs": [],
   "source": [
    "    def get_table_ver(self, table_name: str) -> str:\n",
    "        # Get the info regarding the current version of the delta table\n",
    "        history = self.run(f\"DESCRIBE HISTORY {table_name}\")\n",
    "        # Extract the current version number\n",
    "        ver_num = history[\"version\"].iat[0]\n",
    "        return ver_num\n",
    "\n",
    "    def rollback(self, table_name: str, ver_num: int):\n",
    "        # Retrieve the data from the previous table\n",
    "        prev_table = self.to_df(f\"SELECT * FROM {table_name}@v{ver_num}\")\n",
    "        # Perform full-refresh and overwrite the table with the new data\n",
    "        rollback_table = self._full_refresh(\"raw.c4c_test4\", prev_table)\n",
    "        logger.info(f\"Rollback for table {table_name} to version #{ver_num} completed.\")\n"
   ]
  },
  {
   "cell_type": "code",
   "execution_count": null,
   "id": "b0b989ca-0c67-41b8-ac74-9b0bb7242f41",
   "metadata": {},
   "outputs": [],
   "source": [
    "df = databricks.session.createDataFrame([], StructType([]))"
   ]
  },
  {
   "cell_type": "code",
   "execution_count": null,
   "id": "f88e405b-40c0-40c3-ba37-4db61af304a2",
   "metadata": {},
   "outputs": [],
   "source": []
  }
 ],
 "metadata": {
  "kernelspec": {
   "display_name": "Python 3 (ipykernel)",
   "language": "python",
   "name": "python3"
  },
  "language_info": {
   "codemirror_mode": {
    "name": "ipython",
    "version": 3
   },
   "file_extension": ".py",
   "mimetype": "text/x-python",
   "name": "python",
   "nbconvert_exporter": "python",
   "pygments_lexer": "ipython3",
   "version": "3.8.12"
  }
 },
 "nbformat": 4,
 "nbformat_minor": 5
}
